{
 "cells": [
  {
   "cell_type": "markdown",
   "metadata": {},
   "source": [
    "# Audio Steganograpghy\n",
    "----------"
   ]
  },
  {
   "cell_type": "code",
   "execution_count": null,
   "metadata": {},
   "outputs": [],
   "source": [
    "import matplotlib.pyplot as plt\n",
    "from scipy.io import wavfile as wav\n",
    "from scipy.fftpack import fft, ifft, fftfreq, fftshift\n",
    "from scipy.signal import resample_poly\n",
    "import numpy as np\n",
    "import IPython.display as ipd\n",
    "from fractions import Fraction"
   ]
  },
  {
   "cell_type": "markdown",
   "metadata": {},
   "source": [
    "### Utility functions"
   ]
  },
  {
   "cell_type": "code",
   "execution_count": null,
   "metadata": {},
   "outputs": [],
   "source": [
    "def filterHighFreq(signalData): # Low pass filter\n",
    "    dataAfterFilterFt = fft(signalData)\n",
    "    for i in range(1*int(dataAfterFilterFt.size/8), 7*int(dataAfterFilterFt.size/8)):\n",
    "        dataAfterFilterFt[i]=0\n",
    "        \n",
    "    return ifft(dataAfterFilterFt).real"
   ]
  },
  {
   "cell_type": "markdown",
   "metadata": {},
   "source": [
    "3 Eqs:\n",
    "\n",
    "total_samples = len(data) = len(fourier_transform) ----> (1)\n",
    "\n",
    "duration = total_samples * sample_spacing ----------> (2)\n",
    "\n",
    "rate = 1/sample_spacing -------------------------------> (3)"
   ]
  },
  {
   "cell_type": "code",
   "execution_count": null,
   "metadata": {},
   "outputs": [],
   "source": [
    "def increase_sample_rate(audio_data, duration_seconds, old_rate, new_rate):\n",
    "    ft = fft(audio_data)\n",
    "    ft_shifted = fftshift(ft)\n",
    "    \n",
    "    old_total_samples = len(ft)\n",
    "    new_total_samples = np.ceil(duration_seconds/(1.0/new_rate))\n",
    "    zeros = np.zeros(int((new_total_samples-old_total_samples)/2.0))\n",
    "    \n",
    "    ft_shifted_new = np.append(zeros, ft_shifted)\n",
    "    ft_shifted_new = np.append(ft_shifted_new, zeros)\n",
    "    \n",
    "    ft_new = fftshift(ft_shifted_new)\n",
    "    audio_data_new = ifft(ft_new).real\n",
    "    audio_data_new = audio_data_new * (audio_data.max()/audio_data_new.max())\n",
    "    \n",
    "    _new_rate = 1/(duration_seconds/len(ft_new))\n",
    "    \n",
    "    return _new_rate, audio_data_new, ft_new"
   ]
  },
  {
   "cell_type": "code",
   "execution_count": null,
   "metadata": {},
   "outputs": [],
   "source": [
    "def our_resample(audio_data, old_rate, new_rate):\n",
    "    ratio = Fraction(new_rate, old_rate)\n",
    "    return resample_poly(audio_data, ratio.numerator, ratio.denominator)"
   ]
  },
  {
   "cell_type": "code",
   "execution_count": null,
   "metadata": {},
   "outputs": [],
   "source": [
    "Fraction(44100, 8000)"
   ]
  },
  {
   "cell_type": "markdown",
   "metadata": {},
   "source": [
    "## Preparing\n",
    "---"
   ]
  },
  {
   "cell_type": "markdown",
   "metadata": {},
   "source": [
    "### Reading the audio files"
   ]
  },
  {
   "cell_type": "code",
   "execution_count": null,
   "metadata": {},
   "outputs": [],
   "source": [
    "rate1, data1 = wav.read(\"audio1.wav\")\n",
    "# data1 = filterHighFreq(data1)\n",
    "\n",
    "total_samples1 = len(data1)\n",
    "sample_spacing1 = 1/rate1\n",
    "duration1 = total_samples1*sample_spacing1 # seconds\n",
    "\n",
    "\n",
    "ipd.Audio(data1, rate=rate1) # Audio player"
   ]
  },
  {
   "cell_type": "code",
   "execution_count": null,
   "metadata": {},
   "outputs": [],
   "source": [
    "data1.min()"
   ]
  },
  {
   "cell_type": "code",
   "execution_count": null,
   "metadata": {
    "scrolled": true
   },
   "outputs": [],
   "source": [
    "rate2, data2 = wav.read(\"audio2.wav\")\n",
    "data2 = filterHighFreq(data2)\n",
    "\n",
    "total_samples2 = len(data2)\n",
    "sample_spacing2 = 1/rate2\n",
    "duration2 = total_samples2*sample_spacing2 # seconds\n",
    "\n",
    "ipd.Audio(data2, rate=rate2) # Audio player"
   ]
  },
  {
   "cell_type": "code",
   "execution_count": null,
   "metadata": {},
   "outputs": [],
   "source": [
    "rate1_new, data1_new_rate, ft1_new = increase_sample_rate(data1, duration1, rate1, rate2)\n",
    "\n",
    "total_samples1_new = len(data1_new_rate)\n",
    "sample_spacing1_new = 1/rate1_new\n",
    "\n",
    "ipd.Audio(data1_new_rate, rate=rate1_new) # Audio player"
   ]
  },
  {
   "cell_type": "code",
   "execution_count": null,
   "metadata": {},
   "outputs": [],
   "source": [
    "data1_new_rate_2 = our_resample(data1, rate1, rate2)\n",
    "rate1_new_2 = 1/(duration1/len(data1_new_rate_2))\n",
    "ipd.Audio(data1_new_rate_2, rate=rate1_new_2)"
   ]
  },
  {
   "cell_type": "code",
   "execution_count": null,
   "metadata": {},
   "outputs": [],
   "source": [
    "rate1_new_2"
   ]
  },
  {
   "cell_type": "code",
   "execution_count": null,
   "metadata": {},
   "outputs": [],
   "source": [
    "data1_new_rate_2.shape"
   ]
  },
  {
   "cell_type": "code",
   "execution_count": null,
   "metadata": {
    "scrolled": false
   },
   "outputs": [],
   "source": [
    "plt.title(\"audio1\")\n",
    "x1 = np.linspace(0, duration1, total_samples1)\n",
    "plt.plot(x1, data1)\n",
    "plt.xlabel('Time(sec)')\n",
    "plt.grid()\n",
    "plt.show()\n",
    "\n",
    "plt.title(\"audio1 new rate\")\n",
    "x1_new = np.linspace(0, duration1, total_samples1_new)\n",
    "plt.plot(x1_new, data1_new_rate)\n",
    "plt.xlabel('Time(sec)')\n",
    "plt.grid()\n",
    "plt.show()\n",
    "\n",
    "plt.title(\"audio2\")\n",
    "x2 = np.linspace(0, duration2, total_samples2)\n",
    "plt.plot(x2, data2)\n",
    "plt.xlabel('Time(sec)')\n",
    "plt.grid()\n",
    "plt.show()"
   ]
  },
  {
   "cell_type": "markdown",
   "metadata": {},
   "source": [
    "### Fourier transform"
   ]
  },
  {
   "cell_type": "code",
   "execution_count": null,
   "metadata": {},
   "outputs": [],
   "source": [
    "ft1 = fft(data1)\n",
    "y_ft1 = 1/total_samples1 * np.abs(fftshift(ft1))\n",
    "x_ft1 = fftfreq(total_samples1, sample_spacing1)\n",
    "x_ft1 = fftshift(x_ft1)\n",
    "\n",
    "ft1_new = fft(data1_new_rate)\n",
    "y_ft1_new = 1/total_samples1_new * np.abs(fftshift(ft1_new))\n",
    "x_ft1_new = fftfreq(total_samples1_new, sample_spacing1_new)\n",
    "x_ft1_new = fftshift(x_ft1_new)\n",
    "\n",
    "ft2 = fft(data2)\n",
    "y_ft2 = 1/total_samples2 * np.abs(fftshift(ft2))\n",
    "x_ft2 = fftfreq(total_samples2, sample_spacing2)\n",
    "x_ft2 = fftshift(x_ft2)\n",
    "\n",
    "plt.title(\"Fourier transform for audio1\")\n",
    "plt.plot(x_ft1, y_ft1)\n",
    "plt.xlabel('freq(Hz)')\n",
    "# plt.xlim(-6000,6000)\n",
    "plt.grid()\n",
    "plt.show()\n",
    "\n",
    "plt.title(\"Fourier transform for audio1 new rate\")\n",
    "plt.plot(x_ft1_new, y_ft1_new)\n",
    "plt.xlabel('freq(Hz)')\n",
    "# plt.xlim(-6000,6000)\n",
    "plt.grid()\n",
    "plt.show()\n",
    "\n",
    "plt.title(\"Fourier transform for audio2\")\n",
    "plt.plot(x_ft2, y_ft2)\n",
    "plt.xlabel('freq(Hz)')\n",
    "# plt.xlim(-6000,6000)\n",
    "plt.grid()\n",
    "plt.show()"
   ]
  },
  {
   "cell_type": "code",
   "execution_count": null,
   "metadata": {},
   "outputs": [],
   "source": [
    "data1_new_rate.dtype"
   ]
  },
  {
   "cell_type": "markdown",
   "metadata": {},
   "source": [
    "## Hiding \"audio1\" in \"audio2\"\n",
    "---"
   ]
  },
  {
   "cell_type": "code",
   "execution_count": null,
   "metadata": {},
   "outputs": [],
   "source": [
    "\n",
    "omega = 2.4\n",
    "attenuationFactor = 0.01\n",
    "\n",
    "data3 = np.array(data2)\n",
    "\n",
    "for i in range(data1.size):\n",
    "    data3[i] =data2[i]+ attenuationFactor* data1[i] * np.cos(i*omega)\n",
    "\n",
    "\n",
    "    \n",
    "ft3 = fft(data3)\n",
    "y_ft3 = 1/total_samples2 * np.abs(fftshift(ft3))\n",
    "x_ft3 = fftfreq(total_samples2, sample_spacing2)\n",
    "x_ft3 = fftshift(x_ft3)\n",
    "\n",
    "plt.title(\"Fourier transform for the compined Audio\")\n",
    "plt.plot(x_ft3, y_ft3)\n",
    "plt.xlabel('freq(Hz)')\n",
    "plt.xlim(-30000,30000)\n",
    "plt.grid()\n",
    "plt.show()\n",
    "\n",
    "plt.title(\"Fourier transform for audio2\")\n",
    "plt.plot(x_ft2, y_ft2)\n",
    "plt.xlabel('freq(Hz)')\n",
    "plt.xlim(-20000, 20000)\n",
    "plt.grid()\n",
    "plt.show()"
   ]
  },
  {
   "cell_type": "markdown",
   "metadata": {},
   "source": [
    "---"
   ]
  },
  {
   "cell_type": "code",
   "execution_count": null,
   "metadata": {},
   "outputs": [],
   "source": [
    "ipd.Audio(data3, rate=rate2) # Audio player\n"
   ]
  },
  {
   "cell_type": "markdown",
   "metadata": {},
   "source": [
    "## Restore audio"
   ]
  },
  {
   "cell_type": "code",
   "execution_count": null,
   "metadata": {},
   "outputs": [],
   "source": [
    "hiddenAudio = data3\n",
    "\n",
    "for i in range(data3.size):\n",
    "    hiddenAudio[i] = hiddenAudio[i]*np.cos(i*omega)\n",
    "    \n",
    "    \n",
    "hiddenAudioFt = fft(hiddenAudio)\n",
    "y_hiddenAudioFt = 1/total_samples2 * np.abs(fftshift(hiddenAudioFt))\n",
    "x_hiddenAudioFt = fftfreq(total_samples2, sample_spacing2)\n",
    "x_hiddenAudioFt = fftshift(x_hiddenAudioFt)\n",
    "\n",
    "\n",
    "plt.title(\"Fourier transform for hidden audio\")\n",
    "plt.plot(x_hiddenAudioFt, y_hiddenAudioFt)\n",
    "plt.xlabel('freq(Hz)')\n",
    "plt.xlim(-20000, 20000)\n",
    "plt.grid()\n",
    "plt.show()\n",
    "\n"
   ]
  },
  {
   "cell_type": "markdown",
   "metadata": {},
   "source": [
    "## apply filter and amplify signal"
   ]
  },
  {
   "cell_type": "code",
   "execution_count": null,
   "metadata": {},
   "outputs": [],
   "source": [
    "hiddenAudioAfterFilter = filterHighFreq(hiddenAudio/attenuationFactor)\n",
    "hiddenAudioAfterFilterFt= fft(hiddenAudioAfterFilter)\n",
    "\n",
    "y_hiddenAudioAfterFilterFt = 1/total_samples2 * np.abs(fftshift(hiddenAudioAfterFilterFt))\n",
    "x_hiddenAudioAfterFilterFt = fftfreq(total_samples2, sample_spacing2)\n",
    "x_hiddenAudioAfterFilterFt = fftshift(x_hiddenAudioAfterFilterFt)\n",
    "\n",
    "\n",
    "plt.title(\"Fourier transform for hidden audio after filter and amplification\")\n",
    "plt.plot(x_hiddenAudioAfterFilterFt, y_hiddenAudioAfterFilterFt)\n",
    "plt.xlabel('freq(Hz)')\n",
    "plt.xlim(-20000, 20000)\n",
    "plt.grid()\n",
    "plt.show()\n",
    "\n",
    "hiddenAudioAfterFilter = np.fft.ifft(hiddenAudioAfterFilterFt).real"
   ]
  },
  {
   "cell_type": "code",
   "execution_count": null,
   "metadata": {},
   "outputs": [],
   "source": [
    "\n",
    "ipd.Audio(hiddenAudioAfterFilter, rate=rate2) "
   ]
  },
  {
   "cell_type": "code",
   "execution_count": null,
   "metadata": {},
   "outputs": [],
   "source": []
  }
 ],
 "metadata": {
  "kernelspec": {
   "display_name": "Python 3",
   "language": "python",
   "name": "python3"
  },
  "language_info": {
   "codemirror_mode": {
    "name": "ipython",
    "version": 3
   },
   "file_extension": ".py",
   "mimetype": "text/x-python",
   "name": "python",
   "nbconvert_exporter": "python",
   "pygments_lexer": "ipython3",
   "version": "3.6.4"
  }
 },
 "nbformat": 4,
 "nbformat_minor": 2
}
