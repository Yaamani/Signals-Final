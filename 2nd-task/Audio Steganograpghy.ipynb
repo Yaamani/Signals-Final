{
 "cells": [
  {
   "cell_type": "markdown",
   "metadata": {},
   "source": [
    "# Audio Steganograpghy\n",
    "----------"
   ]
  },
  {
   "cell_type": "code",
   "execution_count": null,
   "metadata": {},
   "outputs": [],
   "source": [
    "import matplotlib.pyplot as plt\n",
    "from scipy.io import wavfile as wav\n",
    "from scipy.fftpack import fft, ifft, fftfreq, fftshift\n",
    "import numpy as np\n",
    "import IPython.display as ipd\n",
    "from scipy.signal import resample_poly\n",
    "from fractions import Fraction"
   ]
  },
  {
   "cell_type": "code",
   "execution_count": null,
   "metadata": {},
   "outputs": [],
   "source": [
    "def filterHighFreq(signalData):\n",
    "    dataAfterFilterFt = fft(signalData)\n",
    "    for i in range(1*int(dataAfterFilterFt.size/8),7*int(dataAfterFilterFt.size/8)):\n",
    "        dataAfterFilterFt[i]=0\n",
    "        \n",
    "    return ifft(dataAfterFilterFt).real\n",
    "\n",
    "def our_resample(audio_data, old_rate, new_rate):\n",
    "    ratio = Fraction(new_rate, old_rate)\n",
    "    return resample_poly(audio_data, ratio.numerator, ratio.denominator)\n"
   ]
  },
  {
   "cell_type": "markdown",
   "metadata": {},
   "source": [
    "## Preparing\n",
    "---"
   ]
  },
  {
   "cell_type": "markdown",
   "metadata": {},
   "source": [
    "### Reading the audio files"
   ]
  },
  {
   "cell_type": "code",
   "execution_count": null,
   "metadata": {},
   "outputs": [],
   "source": [
    "rate2, data2 = wav.read(\"audio2.wav\")\n",
    "data2 = filterHighFreq(data2)\n",
    "\n",
    "total_samples2 = len(data2)\n",
    "sample_spacing2 = 1/rate2\n",
    "duration2 = total_samples2*sample_spacing2 # seconds\n",
    "\n",
    "\n",
    "\n",
    "ipd.Audio(data2, rate=rate2) # Audio player"
   ]
  },
  {
   "cell_type": "code",
   "execution_count": null,
   "metadata": {},
   "outputs": [],
   "source": [
    "rate1, data1 = wav.read(\"audio1.wav\")\n",
    "\n",
    "\n",
    "\n",
    "total_samples1 = len(data1)\n",
    "sample_spacing1 = 1/rate1\n",
    "duration1 = total_samples1*sample_spacing1 # seconds\n",
    "\n",
    "data1 = our_resample(data1,rate1,rate2)\n",
    "\n",
    "rate1=rate2\n",
    "total_samples1 = len(data1)\n",
    "sample_spacing1 = 1/rate1\n",
    "duration1 = total_samples1*sample_spacing1 # seconds\n",
    "\n",
    "data1 = filterHighFreq(data1)\n",
    "\n",
    "\n",
    "ipd.Audio(data1, rate=rate1) # Audio player"
   ]
  },
  {
   "cell_type": "code",
   "execution_count": null,
   "metadata": {
    "scrolled": false
   },
   "outputs": [],
   "source": [
    "plt.title(\"audio1\")\n",
    "x1 = np.linspace(0, duration1, total_samples1)\n",
    "plt.plot(x1, data1)\n",
    "plt.xlabel('Time(sec)')\n",
    "plt.grid()\n",
    "plt.show()\n",
    "\n",
    "plt.title(\"audio2\")\n",
    "x2 = np.linspace(0, duration2, total_samples2)\n",
    "plt.plot(x2, data2)\n",
    "plt.xlabel('Time(sec)')\n",
    "plt.grid()\n",
    "plt.show()"
   ]
  },
  {
   "cell_type": "markdown",
   "metadata": {},
   "source": [
    "### Fourier transform"
   ]
  },
  {
   "cell_type": "code",
   "execution_count": null,
   "metadata": {
    "scrolled": true
   },
   "outputs": [],
   "source": [
    "ft1 = fft(data1)\n",
    "y_ft1 = 1/total_samples1 * np.abs(fftshift(ft1))\n",
    "x_ft1 = fftfreq(total_samples1, sample_spacing1)\n",
    "x_ft1 = fftshift(x_ft1)\n",
    "\n",
    "ft2 = fft(data2)\n",
    "y_ft2 = 1/total_samples2 * np.abs(fftshift(ft2))\n",
    "x_ft2 = fftfreq(total_samples2, sample_spacing2)\n",
    "\n",
    "x_ft2 = fftshift(x_ft2)\n",
    "\n",
    "plt.title(\"Fourier transform for audio1\")\n",
    "plt.plot(x_ft1, y_ft1)\n",
    "plt.xlabel('freq(Hz)')\n",
    "plt.xlim(-6000,6000)\n",
    "plt.grid()\n",
    "plt.show()\n",
    "\n",
    "plt.title(\"Fourier transform for audio2\")\n",
    "plt.plot(x_ft2, y_ft2)\n",
    "plt.xlabel('freq(Hz)')\n",
    "plt.xlim(-6000,6000)\n",
    "plt.grid()\n",
    "plt.show()\n",
    "\n"
   ]
  },
  {
   "cell_type": "markdown",
   "metadata": {},
   "source": [
    "## Hiding \"audio1\" in \"audio2\"\n",
    "---"
   ]
  },
  {
   "cell_type": "code",
   "execution_count": null,
   "metadata": {},
   "outputs": [],
   "source": [
    "\n",
    "omega = 2.4\n",
    "attenuationFactor = 0.01\n",
    "\n",
    "data3 = np.array(data2)\n",
    "\n",
    "for i in range(data1.size):\n",
    "    data3[i] =data2[i]+ attenuationFactor* data1[i] * np.cos(i*omega)\n",
    "\n",
    "\n",
    "    \n",
    "ft3 = fft(data3)\n",
    "y_ft3 = 1/total_samples2 * np.abs(fftshift(ft3))\n",
    "x_ft3 = fftfreq(total_samples2, sample_spacing2)\n",
    "x_ft3 = fftshift(x_ft3)\n",
    "\n",
    "plt.title(\"Fourier transform for the compined Audio\")\n",
    "plt.plot(x_ft3, y_ft3)\n",
    "plt.xlabel('freq(Hz)')\n",
    "plt.xlim(-25000,25000)\n",
    "plt.grid()\n",
    "plt.show()\n",
    "\n",
    "plt.title(\"Fourier transform for audio2\")\n",
    "plt.plot(x_ft2, y_ft2)\n",
    "plt.xlabel('freq(Hz)')\n",
    "plt.xlim(-25000, 25000)\n",
    "plt.grid()\n",
    "plt.show()\n",
    "\n",
    "\n"
   ]
  },
  {
   "cell_type": "markdown",
   "metadata": {},
   "source": [
    "---"
   ]
  },
  {
   "cell_type": "code",
   "execution_count": null,
   "metadata": {},
   "outputs": [],
   "source": [
    "ipd.Audio(data3, rate=rate1) # Audio player"
   ]
  },
  {
   "cell_type": "code",
   "execution_count": null,
   "metadata": {},
   "outputs": [],
   "source": [
    "wav.write('audio3.wav', int(rate1), (data3).astype(np.int32)) # exporting the audio file"
   ]
  },
  {
   "cell_type": "markdown",
   "metadata": {},
   "source": [
    "## Restore audio"
   ]
  },
  {
   "cell_type": "code",
   "execution_count": null,
   "metadata": {},
   "outputs": [],
   "source": [
    "combinedMessageRate , combinedMessage = wav.read(\"audio3.wav\")\n",
    "\n",
    "hiddenAudio = np.array(combinedMessage)\n",
    "\n",
    "for i in range(data3.size):\n",
    "    hiddenAudio[i] = hiddenAudio[i]*np.cos(i*omega)\n",
    "    \n",
    "    \n",
    "hiddenAudioFt = fft(hiddenAudio)\n",
    "y_hiddenAudioFt = 1/total_samples2 * np.abs(fftshift(hiddenAudioFt))\n",
    "x_hiddenAudioFt = fftfreq(total_samples2, sample_spacing2)\n",
    "x_hiddenAudioFt = fftshift(x_hiddenAudioFt)\n",
    "\n",
    "\n",
    "plt.title(\"Fourier transform for hidden audio\")\n",
    "plt.plot(x_hiddenAudioFt, y_hiddenAudioFt)\n",
    "plt.xlabel('freq(Hz)')\n",
    "plt.xlim(-20000, 20000)\n",
    "plt.grid()\n",
    "plt.show()\n",
    "\n"
   ]
  },
  {
   "cell_type": "markdown",
   "metadata": {},
   "source": [
    "## apply filter and amplify signal"
   ]
  },
  {
   "cell_type": "code",
   "execution_count": null,
   "metadata": {},
   "outputs": [],
   "source": [
    "hiddenAudioAfterFilter = filterHighFreq(hiddenAudio/attenuationFactor)\n",
    "hiddenAudioAfterFilterFt= fft(hiddenAudioAfterFilter)\n",
    "\n",
    "y_hiddenAudioAfterFilterFt = 1/total_samples2 * np.abs(fftshift(hiddenAudioAfterFilterFt))\n",
    "x_hiddenAudioAfterFilterFt = fftfreq(total_samples2, sample_spacing2)\n",
    "x_hiddenAudioAfterFilterFt = fftshift(x_hiddenAudioAfterFilterFt)\n",
    "\n",
    "\n",
    "plt.title(\"Fourier transform for hidden audio after filter and amplification\")\n",
    "plt.plot(x_hiddenAudioAfterFilterFt, y_hiddenAudioAfterFilterFt)\n",
    "plt.xlabel('freq(Hz)')\n",
    "plt.xlim(-20000, 20000)\n",
    "plt.grid()\n",
    "plt.show()\n",
    "\n",
    "hiddenAudioAfterFilter = np.fft.ifft(hiddenAudioAfterFilterFt).real\n",
    "\n"
   ]
  },
  {
   "cell_type": "code",
   "execution_count": null,
   "metadata": {},
   "outputs": [],
   "source": [
    "ipd.Audio(hiddenAudioAfterFilter, rate=rate2) "
   ]
  },
  {
   "cell_type": "code",
   "execution_count": null,
   "metadata": {},
   "outputs": [],
   "source": [
    "wav.write('hiddenMessage.wav', int(rate2), (hiddenAudioAfterFilter).astype(np.int16))"
   ]
  }
 ],
 "metadata": {
  "kernelspec": {
   "display_name": "Python 3",
   "language": "python",
   "name": "python3"
  },
  "language_info": {
   "codemirror_mode": {
    "name": "ipython",
    "version": 3
   },
   "file_extension": ".py",
   "mimetype": "text/x-python",
   "name": "python",
   "nbconvert_exporter": "python",
   "pygments_lexer": "ipython3",
   "version": "3.7.4"
  }
 },
 "nbformat": 4,
 "nbformat_minor": 2
}
